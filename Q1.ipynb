{
  "nbformat": 4,
  "nbformat_minor": 0,
  "metadata": {
    "colab": {
      "provenance": [],
      "gpuType": "T4"
    },
    "kernelspec": {
      "name": "python3",
      "display_name": "Python 3"
    },
    "language_info": {
      "name": "python"
    },
    "accelerator": "GPU"
  },
  "cells": [
    {
      "cell_type": "code",
      "execution_count": 3,
      "metadata": {
        "id": "VR_uqrjiv-ej"
      },
      "outputs": [],
      "source": [
        "# Cell 1: Install required packages\n",
        "!pip install -q torch torchvision\n",
        "!pip install -q timm  # PyTorch Image Models - contains optimized ViT implementations\n",
        "!pip install -q matplotlib numpy tqdm"
      ]
    },
    {
      "cell_type": "code",
      "source": [
        "# Cell 2: Import libraries\n",
        "import torch\n",
        "import torch.nn as nn\n",
        "import torch.optim as optim\n",
        "from torch.utils.data import DataLoader\n",
        "import torchvision\n",
        "import torchvision.transforms as transforms\n",
        "import numpy as np\n",
        "import matplotlib.pyplot as plt\n",
        "from tqdm import tqdm\n",
        "import time\n",
        "\n",
        "# Set random seeds for reproducibility\n",
        "torch.manual_seed(42)\n",
        "np.random.seed(42)\n",
        "\n",
        "# Check device\n",
        "device = torch.device('cuda' if torch.cuda.is_available() else 'cpu')\n",
        "print(f\"Using device: {device}\")\n",
        "if torch.cuda.is_available():\n",
        "    print(f\"GPU: {torch.cuda.get_device_name(0)}\")"
      ],
      "metadata": {
        "colab": {
          "base_uri": "https://localhost:8080/"
        },
        "id": "RnVuDwqVwJAQ",
        "outputId": "f6eb6317-a1ac-4d38-973e-77848a67dcd1"
      },
      "execution_count": 4,
      "outputs": [
        {
          "output_type": "stream",
          "name": "stdout",
          "text": [
            "Using device: cuda\n",
            "GPU: Tesla T4\n"
          ]
        }
      ]
    },
    {
      "cell_type": "code",
      "source": [
        "# Cell 3: Define Vision Transformer Architecture\n",
        "class PatchEmbedding(nn.Module):\n",
        "    \"\"\"Convert image into patches and embed them\"\"\"\n",
        "    def __init__(self, img_size=32, patch_size=4, in_channels=3, embed_dim=256):\n",
        "        super().__init__()\n",
        "        self.img_size = img_size\n",
        "        self.patch_size = patch_size\n",
        "        self.n_patches = (img_size // patch_size) ** 2\n",
        "\n",
        "        # Patchify using convolution\n",
        "        self.proj = nn.Conv2d(in_channels, embed_dim,\n",
        "                             kernel_size=patch_size, stride=patch_size)\n",
        "\n",
        "    def forward(self, x):\n",
        "        # x: (B, C, H, W)\n",
        "        x = self.proj(x)  # (B, embed_dim, n_patches**0.5, n_patches**0.5)\n",
        "        x = x.flatten(2)  # (B, embed_dim, n_patches)\n",
        "        x = x.transpose(1, 2)  # (B, n_patches, embed_dim)\n",
        "        return x\n",
        "\n",
        "\n",
        "class MultiHeadSelfAttention(nn.Module):\n",
        "    \"\"\"Multi-Head Self-Attention mechanism\"\"\"\n",
        "    def __init__(self, embed_dim=256, num_heads=8, dropout=0.1):\n",
        "        super().__init__()\n",
        "        self.embed_dim = embed_dim\n",
        "        self.num_heads = num_heads\n",
        "        self.head_dim = embed_dim // num_heads\n",
        "        assert self.head_dim * num_heads == embed_dim, \"embed_dim must be divisible by num_heads\"\n",
        "\n",
        "        self.qkv = nn.Linear(embed_dim, embed_dim * 3)\n",
        "        self.proj = nn.Linear(embed_dim, embed_dim)\n",
        "        self.dropout = nn.Dropout(dropout)\n",
        "\n",
        "    def forward(self, x):\n",
        "        B, N, C = x.shape\n",
        "\n",
        "        # Generate Q, K, V\n",
        "        qkv = self.qkv(x).reshape(B, N, 3, self.num_heads, self.head_dim)\n",
        "        qkv = qkv.permute(2, 0, 3, 1, 4)  # (3, B, num_heads, N, head_dim)\n",
        "        q, k, v = qkv[0], qkv[1], qkv[2]\n",
        "\n",
        "        # Scaled dot-product attention\n",
        "        attn = (q @ k.transpose(-2, -1)) * (self.head_dim ** -0.5)\n",
        "        attn = attn.softmax(dim=-1)\n",
        "        attn = self.dropout(attn)\n",
        "\n",
        "        # Apply attention to values\n",
        "        x = (attn @ v).transpose(1, 2).reshape(B, N, C)\n",
        "        x = self.proj(x)\n",
        "        x = self.dropout(x)\n",
        "        return x\n",
        "\n",
        "\n",
        "class MLP(nn.Module):\n",
        "    \"\"\"MLP block with GELU activation\"\"\"\n",
        "    def __init__(self, embed_dim=256, mlp_ratio=4.0, dropout=0.1):\n",
        "        super().__init__()\n",
        "        hidden_dim = int(embed_dim * mlp_ratio)\n",
        "        self.fc1 = nn.Linear(embed_dim, hidden_dim)\n",
        "        self.act = nn.GELU()\n",
        "        self.fc2 = nn.Linear(hidden_dim, embed_dim)\n",
        "        self.dropout = nn.Dropout(dropout)\n",
        "\n",
        "    def forward(self, x):\n",
        "        x = self.fc1(x)\n",
        "        x = self.act(x)\n",
        "        x = self.dropout(x)\n",
        "        x = self.fc2(x)\n",
        "        x = self.dropout(x)\n",
        "        return x\n",
        "\n",
        "\n",
        "class TransformerEncoderBlock(nn.Module):\n",
        "    \"\"\"Transformer Encoder Block with MHSA + MLP + Residual + LayerNorm\"\"\"\n",
        "    def __init__(self, embed_dim=256, num_heads=8, mlp_ratio=4.0, dropout=0.1):\n",
        "        super().__init__()\n",
        "        self.norm1 = nn.LayerNorm(embed_dim)\n",
        "        self.attn = MultiHeadSelfAttention(embed_dim, num_heads, dropout)\n",
        "        self.norm2 = nn.LayerNorm(embed_dim)\n",
        "        self.mlp = MLP(embed_dim, mlp_ratio, dropout)\n",
        "\n",
        "    def forward(self, x):\n",
        "        # MHSA with residual\n",
        "        x = x + self.attn(self.norm1(x))\n",
        "        # MLP with residual\n",
        "        x = x + self.mlp(self.norm2(x))\n",
        "        return x\n",
        "\n",
        "\n",
        "class VisionTransformer(nn.Module):\n",
        "    \"\"\"Complete Vision Transformer for CIFAR-10\"\"\"\n",
        "    def __init__(self, img_size=32, patch_size=4, in_channels=3, num_classes=10,\n",
        "                 embed_dim=256, depth=6, num_heads=8, mlp_ratio=4.0, dropout=0.1):\n",
        "        super().__init__()\n",
        "\n",
        "        # Patch embedding\n",
        "        self.patch_embed = PatchEmbedding(img_size, patch_size, in_channels, embed_dim)\n",
        "        n_patches = self.patch_embed.n_patches\n",
        "\n",
        "        # CLS token (learnable)\n",
        "        self.cls_token = nn.Parameter(torch.zeros(1, 1, embed_dim))\n",
        "\n",
        "        # Positional embeddings (learnable)\n",
        "        self.pos_embed = nn.Parameter(torch.zeros(1, n_patches + 1, embed_dim))\n",
        "        self.pos_dropout = nn.Dropout(dropout)\n",
        "\n",
        "        # Transformer encoder blocks\n",
        "        self.blocks = nn.ModuleList([\n",
        "            TransformerEncoderBlock(embed_dim, num_heads, mlp_ratio, dropout)\n",
        "            for _ in range(depth)\n",
        "        ])\n",
        "\n",
        "        # Classification head\n",
        "        self.norm = nn.LayerNorm(embed_dim)\n",
        "        self.head = nn.Linear(embed_dim, num_classes)\n",
        "\n",
        "        # Initialize weights\n",
        "        nn.init.trunc_normal_(self.pos_embed, std=0.02)\n",
        "        nn.init.trunc_normal_(self.cls_token, std=0.02)\n",
        "        self.apply(self._init_weights)\n",
        "\n",
        "    def _init_weights(self, m):\n",
        "        if isinstance(m, nn.Linear):\n",
        "            nn.init.trunc_normal_(m.weight, std=0.02)\n",
        "            if m.bias is not None:\n",
        "                nn.init.constant_(m.bias, 0)\n",
        "        elif isinstance(m, nn.LayerNorm):\n",
        "            nn.init.constant_(m.bias, 0)\n",
        "            nn.init.constant_(m.weight, 1.0)\n",
        "\n",
        "    def forward(self, x):\n",
        "        B = x.shape[0]\n",
        "\n",
        "        # Patch embedding\n",
        "        x = self.patch_embed(x)  # (B, n_patches, embed_dim)\n",
        "\n",
        "        # Prepend CLS token\n",
        "        cls_tokens = self.cls_token.expand(B, -1, -1)\n",
        "        x = torch.cat([cls_tokens, x], dim=1)  # (B, n_patches+1, embed_dim)\n",
        "\n",
        "        # Add positional embeddings\n",
        "        x = x + self.pos_embed\n",
        "        x = self.pos_dropout(x)\n",
        "\n",
        "        # Apply transformer blocks\n",
        "        for block in self.blocks:\n",
        "            x = block(x)\n",
        "\n",
        "        # Classification from CLS token\n",
        "        x = self.norm(x)\n",
        "        cls_token_final = x[:, 0]  # Take CLS token\n",
        "        x = self.head(cls_token_final)\n",
        "\n",
        "        return x\n"
      ],
      "metadata": {
        "id": "YkbFAeMAw4Dx"
      },
      "execution_count": 5,
      "outputs": []
    },
    {
      "cell_type": "code",
      "source": [
        "# Cell 4: Prepare CIFAR-10 dataset with augmentation\n",
        "def get_cifar10_dataloaders(batch_size=128):\n",
        "    \"\"\"Load CIFAR-10 with strong data augmentation\"\"\"\n",
        "\n",
        "    # Training transforms with augmentation\n",
        "    train_transform = transforms.Compose([\n",
        "        transforms.RandomCrop(32, padding=4),\n",
        "        transforms.RandomHorizontalFlip(),\n",
        "        transforms.ColorJitter(brightness=0.2, contrast=0.2, saturation=0.2),\n",
        "        transforms.RandomRotation(15),\n",
        "        transforms.ToTensor(),\n",
        "        transforms.Normalize(mean=[0.4914, 0.4822, 0.4465],\n",
        "                           std=[0.2470, 0.2435, 0.2616]),\n",
        "        transforms.RandomErasing(p=0.25)  # Cutout-like augmentation\n",
        "    ])\n",
        "\n",
        "    # Test transforms (no augmentation)\n",
        "    test_transform = transforms.Compose([\n",
        "        transforms.ToTensor(),\n",
        "        transforms.Normalize(mean=[0.4914, 0.4822, 0.4465],\n",
        "                           std=[0.2470, 0.2435, 0.2616])\n",
        "    ])\n",
        "\n",
        "    # Load datasets\n",
        "    train_dataset = torchvision.datasets.CIFAR10(\n",
        "        root='./data', train=True, download=True, transform=train_transform)\n",
        "    test_dataset = torchvision.datasets.CIFAR10(\n",
        "        root='./data', train=False, download=True, transform=test_transform)\n",
        "\n",
        "    # Create dataloaders\n",
        "    train_loader = DataLoader(train_dataset, batch_size=batch_size,\n",
        "                             shuffle=True, num_workers=2, pin_memory=True)\n",
        "    test_loader = DataLoader(test_dataset, batch_size=batch_size,\n",
        "                            shuffle=False, num_workers=2, pin_memory=True)\n",
        "\n",
        "    print(f\"Training samples: {len(train_dataset)}\")\n",
        "    print(f\"Test samples: {len(test_dataset)}\")\n",
        "\n",
        "    return train_loader, test_loader\n",
        "\n",
        "# Load data\n",
        "train_loader, test_loader = get_cifar10_dataloaders(batch_size=128)\n",
        "\n",
        "# CIFAR-10 classes\n",
        "classes = ('plane', 'car', 'bird', 'cat', 'deer',\n",
        "           'dog', 'frog', 'horse', 'ship', 'truck')"
      ],
      "metadata": {
        "colab": {
          "base_uri": "https://localhost:8080/"
        },
        "id": "6qH4amwyxEb7",
        "outputId": "88d6c965-334f-495c-e177-b187acf196f1"
      },
      "execution_count": 6,
      "outputs": [
        {
          "output_type": "stream",
          "name": "stderr",
          "text": [
            "100%|██████████| 170M/170M [02:49<00:00, 1.01MB/s]\n"
          ]
        },
        {
          "output_type": "stream",
          "name": "stdout",
          "text": [
            "Training samples: 50000\n",
            "Test samples: 10000\n"
          ]
        }
      ]
    },
    {
      "cell_type": "code",
      "source": [
        "# Cell 5: Training and evaluation functions\n",
        "def train_epoch(model, loader, criterion, optimizer, device):\n",
        "    \"\"\"Train for one epoch\"\"\"\n",
        "    model.train()\n",
        "    running_loss = 0.0\n",
        "    correct = 0\n",
        "    total = 0\n",
        "\n",
        "    pbar = tqdm(loader, desc='Training')\n",
        "    for inputs, labels in pbar:\n",
        "        inputs, labels = inputs.to(device), labels.to(device)\n",
        "\n",
        "        optimizer.zero_grad()\n",
        "        outputs = model(inputs)\n",
        "        loss = criterion(outputs, labels)\n",
        "        loss.backward()\n",
        "        optimizer.step()\n",
        "\n",
        "        running_loss += loss.item()\n",
        "        _, predicted = outputs.max(1)\n",
        "        total += labels.size(0)\n",
        "        correct += predicted.eq(labels).sum().item()\n",
        "\n",
        "        pbar.set_postfix({'loss': f'{running_loss/(pbar.n+1):.3f}',\n",
        "                         'acc': f'{100.*correct/total:.2f}%'})\n",
        "\n",
        "    epoch_loss = running_loss / len(loader)\n",
        "    epoch_acc = 100. * correct / total\n",
        "    return epoch_loss, epoch_acc\n",
        "\n",
        "\n",
        "def evaluate(model, loader, criterion, device):\n",
        "    \"\"\"Evaluate on test/validation set\"\"\"\n",
        "    model.eval()\n",
        "    running_loss = 0.0\n",
        "    correct = 0\n",
        "    total = 0\n",
        "\n",
        "    with torch.no_grad():\n",
        "        for inputs, labels in tqdm(loader, desc='Evaluating'):\n",
        "            inputs, labels = inputs.to(device), labels.to(device)\n",
        "            outputs = model(inputs)\n",
        "            loss = criterion(outputs, labels)\n",
        "\n",
        "            running_loss += loss.item()\n",
        "            _, predicted = outputs.max(1)\n",
        "            total += labels.size(0)\n",
        "            correct += predicted.eq(labels).sum().item()\n",
        "\n",
        "    epoch_loss = running_loss / len(loader)\n",
        "    epoch_acc = 100. * correct / total\n",
        "    return epoch_loss, epoch_acc\n"
      ],
      "metadata": {
        "id": "c9JY3vUbxIv5"
      },
      "execution_count": 7,
      "outputs": []
    },
    {
      "cell_type": "code",
      "source": [
        "# Cell 6: Initialize model and training components\n",
        "print(\"\\n\" + \"=\"*60)\n",
        "print(\"INITIALIZING VISION TRANSFORMER\")\n",
        "print(\"=\"*60)\n",
        "\n",
        "# Model configuration (optimized for CIFAR-10)\n",
        "model = VisionTransformer(\n",
        "    img_size=32,\n",
        "    patch_size=4,        # 4x4 patches -> 64 patches total\n",
        "    in_channels=3,\n",
        "    num_classes=10,\n",
        "    embed_dim=256,       # Embedding dimension\n",
        "    depth=6,             # 6 transformer blocks\n",
        "    num_heads=8,         # 8 attention heads\n",
        "    mlp_ratio=4.0,       # MLP hidden dim = 4 * embed_dim\n",
        "    dropout=0.1\n",
        ").to(device)\n",
        "\n",
        "# Count parameters\n",
        "total_params = sum(p.numel() for p in model.parameters())\n",
        "trainable_params = sum(p.numel() for p in model.parameters() if p.requires_grad)\n",
        "print(f\"\\nTotal parameters: {total_params:,}\")\n",
        "print(f\"Trainable parameters: {trainable_params:,}\")\n",
        "\n",
        "# Loss and optimizer\n",
        "criterion = nn.CrossEntropyLoss()\n",
        "optimizer = optim.AdamW(model.parameters(), lr=3e-4, weight_decay=0.05)\n",
        "\n",
        "# Learning rate scheduler (cosine annealing)\n",
        "num_epochs = 100\n",
        "scheduler = optim.lr_scheduler.CosineAnnealingLR(optimizer, T_max=num_epochs)\n",
        "\n",
        "print(f\"\\nTraining configuration:\")\n",
        "print(f\"  - Epochs: {num_epochs}\")\n",
        "print(f\"  - Batch size: 128\")\n",
        "print(f\"  - Initial LR: 3e-4\")\n",
        "print(f\"  - Optimizer: AdamW (weight_decay=0.05)\")\n",
        "print(f\"  - Scheduler: CosineAnnealingLR\")\n",
        "print(f\"  - Augmentation: RandomCrop, HFlip, ColorJitter, Rotation, RandomErasing\")\n"
      ],
      "metadata": {
        "colab": {
          "base_uri": "https://localhost:8080/"
        },
        "id": "1iiWg8FxxQD6",
        "outputId": "94a806a3-8b47-4258-b0e0-80052f93d427"
      },
      "execution_count": 8,
      "outputs": [
        {
          "output_type": "stream",
          "name": "stdout",
          "text": [
            "\n",
            "============================================================\n",
            "INITIALIZING VISION TRANSFORMER\n",
            "============================================================\n",
            "\n",
            "Total parameters: 4,771,082\n",
            "Trainable parameters: 4,771,082\n",
            "\n",
            "Training configuration:\n",
            "  - Epochs: 100\n",
            "  - Batch size: 128\n",
            "  - Initial LR: 3e-4\n",
            "  - Optimizer: AdamW (weight_decay=0.05)\n",
            "  - Scheduler: CosineAnnealingLR\n",
            "  - Augmentation: RandomCrop, HFlip, ColorJitter, Rotation, RandomErasing\n"
          ]
        }
      ]
    },
    {
      "cell_type": "code",
      "source": [
        "# Cell 6: Initialize model and training components\n",
        "print(\"\\n\" + \"=\"*60)\n",
        "print(\"INITIALIZING VISION TRANSFORMER\")\n",
        "print(\"=\"*60)\n",
        "\n",
        "# Model configuration (optimized for CIFAR-10 - faster training)\n",
        "model = VisionTransformer(\n",
        "    img_size=32,\n",
        "    patch_size=4,        # 4x4 patches -> 64 patches total\n",
        "    in_channels=3,\n",
        "    num_classes=10,\n",
        "    embed_dim=384,       # Increased from 256 to 384 for better capacity\n",
        "    depth=7,             # 7 transformer blocks (slight increase)\n",
        "    num_heads=6,         # 6 attention heads (384/6 = 64 per head)\n",
        "    mlp_ratio=4.0,       # MLP hidden dim = 4 * embed_dim\n",
        "    dropout=0.1\n",
        ").to(device)\n",
        "\n",
        "# Count parameters\n",
        "total_params = sum(p.numel() for p in model.parameters())\n",
        "trainable_params = sum(p.numel() for p in model.parameters() if p.requires_grad)\n",
        "print(f\"\\nTotal parameters: {total_params:,}\")\n",
        "print(f\"Trainable parameters: {trainable_params:,}\")\n",
        "\n",
        "# Loss and optimizer with label smoothing for faster convergence\n",
        "criterion = nn.CrossEntropyLoss(label_smoothing=0.1)\n",
        "optimizer = optim.AdamW(model.parameters(), lr=1e-3, weight_decay=0.05)\n",
        "\n",
        "# Learning rate scheduler with warmup + cosine decay\n",
        "num_epochs = 50  # Reduced from 100 to 50 epochs\n",
        "warmup_epochs = 5\n",
        "\n",
        "def lr_lambda(epoch):\n",
        "    if epoch < warmup_epochs:\n",
        "        return (epoch + 1) / warmup_epochs  # Linear warmup\n",
        "    else:\n",
        "        # Cosine decay after warmup\n",
        "        progress = (epoch - warmup_epochs) / (num_epochs - warmup_epochs)\n",
        "        return 0.5 * (1 + np.cos(np.pi * progress))\n",
        "\n",
        "scheduler = optim.lr_scheduler.LambdaLR(optimizer, lr_lambda)\n",
        "\n",
        "print(f\"\\nTraining configuration (FAST MODE):\")\n",
        "print(f\"  - Epochs: {num_epochs} (50% reduction)\")\n",
        "print(f\"  - Batch size: 128\")\n",
        "print(f\"  - Initial LR: 1e-3 (higher for faster convergence)\")\n",
        "print(f\"  - Warmup epochs: {warmup_epochs}\")\n",
        "print(f\"  - Optimizer: AdamW (weight_decay=0.05)\")\n",
        "print(f\"  - Scheduler: Warmup + CosineAnnealingLR\")\n",
        "print(f\"  - Label Smoothing: 0.1 (regularization)\")\n",
        "print(f\"  - Augmentation: RandomCrop, HFlip, ColorJitter, Rotation, RandomErasing\")\n"
      ],
      "metadata": {
        "colab": {
          "base_uri": "https://localhost:8080/"
        },
        "id": "zg6TKdXQxX0c",
        "outputId": "a556e9b6-0061-4407-fa53-a53f24aee8e8"
      },
      "execution_count": 9,
      "outputs": [
        {
          "output_type": "stream",
          "name": "stdout",
          "text": [
            "\n",
            "============================================================\n",
            "INITIALIZING VISION TRANSFORMER\n",
            "============================================================\n",
            "\n",
            "Total parameters: 12,470,026\n",
            "Trainable parameters: 12,470,026\n",
            "\n",
            "Training configuration (FAST MODE):\n",
            "  - Epochs: 50 (50% reduction)\n",
            "  - Batch size: 128\n",
            "  - Initial LR: 1e-3 (higher for faster convergence)\n",
            "  - Warmup epochs: 5\n",
            "  - Optimizer: AdamW (weight_decay=0.05)\n",
            "  - Scheduler: Warmup + CosineAnnealingLR\n",
            "  - Label Smoothing: 0.1 (regularization)\n",
            "  - Augmentation: RandomCrop, HFlip, ColorJitter, Rotation, RandomErasing\n"
          ]
        }
      ]
    },
    {
      "cell_type": "code",
      "source": [
        "# Cell 7: Training loop\n",
        "print(\"\\n\" + \"=\"*60)\n",
        "print(\"STARTING TRAINING\")\n",
        "print(\"=\"*60 + \"\\n\")\n",
        "\n",
        "history = {\n",
        "    'train_loss': [], 'train_acc': [],\n",
        "    'test_loss': [], 'test_acc': []\n",
        "}\n",
        "\n",
        "best_test_acc = 0.0\n",
        "start_time = time.time()\n",
        "\n",
        "for epoch in range(num_epochs):\n",
        "    print(f\"\\nEpoch {epoch+1}/{num_epochs}\")\n",
        "    print(\"-\" * 40)\n",
        "\n",
        "    # Train\n",
        "    train_loss, train_acc = train_epoch(model, train_loader, criterion, optimizer, device)\n",
        "\n",
        "    # Evaluate\n",
        "    test_loss, test_acc = evaluate(model, test_loader, criterion, device)\n",
        "\n",
        "    # Update scheduler\n",
        "    scheduler.step()\n",
        "    current_lr = optimizer.param_groups[0]['lr']\n",
        "\n",
        "    # Save history\n",
        "    history['train_loss'].append(train_loss)\n",
        "    history['train_acc'].append(train_acc)\n",
        "    history['test_loss'].append(test_loss)\n",
        "    history['test_acc'].append(test_acc)\n",
        "\n",
        "    # Print epoch summary\n",
        "    print(f\"\\nEpoch {epoch+1} Summary:\")\n",
        "    print(f\"  Train Loss: {train_loss:.4f} | Train Acc: {train_acc:.2f}%\")\n",
        "    print(f\"  Test Loss:  {test_loss:.4f} | Test Acc:  {test_acc:.2f}%\")\n",
        "    print(f\"  Learning Rate: {current_lr:.6f}\")\n",
        "\n",
        "    # Save best model\n",
        "    if test_acc > best_test_acc:\n",
        "        best_test_acc = test_acc\n",
        "        torch.save(model.state_dict(), 'best_vit_cifar10.pth')\n",
        "        print(f\"  ✓ New best test accuracy: {best_test_acc:.2f}%\")\n",
        "\n",
        "total_time = time.time() - start_time\n",
        "print(f\"\\n{'='*60}\")\n",
        "print(f\"TRAINING COMPLETED!\")\n",
        "print(f\"{'='*60}\")\n",
        "print(f\"Total training time: {total_time/60:.2f} minutes\")\n",
        "print(f\"Best test accuracy: {best_test_acc:.2f}%\")\n"
      ],
      "metadata": {
        "colab": {
          "base_uri": "https://localhost:8080/"
        },
        "id": "muGHQpJuxdHh",
        "outputId": "5c32ba3a-1ada-437e-887b-971b228a4a49"
      },
      "execution_count": 10,
      "outputs": [
        {
          "output_type": "stream",
          "name": "stdout",
          "text": [
            "\n",
            "============================================================\n",
            "STARTING TRAINING\n",
            "============================================================\n",
            "\n",
            "\n",
            "Epoch 1/50\n",
            "----------------------------------------\n"
          ]
        },
        {
          "output_type": "stream",
          "name": "stderr",
          "text": [
            "Training: 100%|██████████| 391/391 [01:25<00:00,  4.58it/s, loss=1.967, acc=29.45%]\n",
            "Evaluating: 100%|██████████| 79/79 [00:05<00:00, 13.65it/s]\n"
          ]
        },
        {
          "output_type": "stream",
          "name": "stdout",
          "text": [
            "\n",
            "Epoch 1 Summary:\n",
            "  Train Loss: 1.9674 | Train Acc: 29.45%\n",
            "  Test Loss:  1.8386 | Test Acc:  36.04%\n",
            "  Learning Rate: 0.000400\n",
            "  ✓ New best test accuracy: 36.04%\n",
            "\n",
            "Epoch 2/50\n",
            "----------------------------------------\n"
          ]
        },
        {
          "output_type": "stream",
          "name": "stderr",
          "text": [
            "Training: 100%|██████████| 391/391 [01:29<00:00,  4.39it/s, loss=1.794, acc=39.00%]\n",
            "Evaluating: 100%|██████████| 79/79 [00:06<00:00, 13.08it/s]\n"
          ]
        },
        {
          "output_type": "stream",
          "name": "stdout",
          "text": [
            "\n",
            "Epoch 2 Summary:\n",
            "  Train Loss: 1.7935 | Train Acc: 39.00%\n",
            "  Test Loss:  1.6876 | Test Acc:  45.17%\n",
            "  Learning Rate: 0.000600\n",
            "  ✓ New best test accuracy: 45.17%\n",
            "\n",
            "Epoch 3/50\n",
            "----------------------------------------\n"
          ]
        },
        {
          "output_type": "stream",
          "name": "stderr",
          "text": [
            "Training: 100%|██████████| 391/391 [01:33<00:00,  4.18it/s, loss=1.733, acc=42.38%]\n",
            "Evaluating: 100%|██████████| 79/79 [00:06<00:00, 12.66it/s]\n"
          ]
        },
        {
          "output_type": "stream",
          "name": "stdout",
          "text": [
            "\n",
            "Epoch 3 Summary:\n",
            "  Train Loss: 1.7332 | Train Acc: 42.38%\n",
            "  Test Loss:  1.6353 | Test Acc:  47.71%\n",
            "  Learning Rate: 0.000800\n",
            "  ✓ New best test accuracy: 47.71%\n",
            "\n",
            "Epoch 4/50\n",
            "----------------------------------------\n"
          ]
        },
        {
          "output_type": "stream",
          "name": "stderr",
          "text": [
            "Training: 100%|██████████| 391/391 [01:33<00:00,  4.17it/s, loss=1.731, acc=42.27%]\n",
            "Evaluating: 100%|██████████| 79/79 [00:06<00:00, 12.56it/s]\n"
          ]
        },
        {
          "output_type": "stream",
          "name": "stdout",
          "text": [
            "\n",
            "Epoch 4 Summary:\n",
            "  Train Loss: 1.7308 | Train Acc: 42.27%\n",
            "  Test Loss:  1.6304 | Test Acc:  47.21%\n",
            "  Learning Rate: 0.001000\n",
            "\n",
            "Epoch 5/50\n",
            "----------------------------------------\n"
          ]
        },
        {
          "output_type": "stream",
          "name": "stderr",
          "text": [
            "Training: 100%|██████████| 391/391 [01:33<00:00,  4.17it/s, loss=1.751, acc=41.69%]\n",
            "Evaluating: 100%|██████████| 79/79 [00:06<00:00, 12.63it/s]\n"
          ]
        },
        {
          "output_type": "stream",
          "name": "stdout",
          "text": [
            "\n",
            "Epoch 5 Summary:\n",
            "  Train Loss: 1.7511 | Train Acc: 41.69%\n",
            "  Test Loss:  1.6536 | Test Acc:  46.76%\n",
            "  Learning Rate: 0.001000\n",
            "\n",
            "Epoch 6/50\n",
            "----------------------------------------\n"
          ]
        },
        {
          "output_type": "stream",
          "name": "stderr",
          "text": [
            "Training: 100%|██████████| 391/391 [01:33<00:00,  4.16it/s, loss=1.734, acc=42.00%]\n",
            "Evaluating: 100%|██████████| 79/79 [00:06<00:00, 12.62it/s]\n"
          ]
        },
        {
          "output_type": "stream",
          "name": "stdout",
          "text": [
            "\n",
            "Epoch 6 Summary:\n",
            "  Train Loss: 1.7341 | Train Acc: 42.00%\n",
            "  Test Loss:  1.6457 | Test Acc:  46.82%\n",
            "  Learning Rate: 0.000999\n",
            "\n",
            "Epoch 7/50\n",
            "----------------------------------------\n"
          ]
        },
        {
          "output_type": "stream",
          "name": "stderr",
          "text": [
            "Training: 100%|██████████| 391/391 [01:34<00:00,  4.15it/s, loss=1.735, acc=42.26%]\n",
            "Evaluating: 100%|██████████| 79/79 [00:06<00:00, 12.67it/s]\n"
          ]
        },
        {
          "output_type": "stream",
          "name": "stdout",
          "text": [
            "\n",
            "Epoch 7 Summary:\n",
            "  Train Loss: 1.7350 | Train Acc: 42.26%\n",
            "  Test Loss:  1.6315 | Test Acc:  48.00%\n",
            "  Learning Rate: 0.000995\n",
            "  ✓ New best test accuracy: 48.00%\n",
            "\n",
            "Epoch 8/50\n",
            "----------------------------------------\n"
          ]
        },
        {
          "output_type": "stream",
          "name": "stderr",
          "text": [
            "Training: 100%|██████████| 391/391 [01:33<00:00,  4.17it/s, loss=1.695, acc=44.26%]\n",
            "Evaluating: 100%|██████████| 79/79 [00:06<00:00, 12.58it/s]\n"
          ]
        },
        {
          "output_type": "stream",
          "name": "stdout",
          "text": [
            "\n",
            "Epoch 8 Summary:\n",
            "  Train Loss: 1.6954 | Train Acc: 44.26%\n",
            "  Test Loss:  1.5773 | Test Acc:  49.31%\n",
            "  Learning Rate: 0.000989\n",
            "  ✓ New best test accuracy: 49.31%\n",
            "\n",
            "Epoch 9/50\n",
            "----------------------------------------\n"
          ]
        },
        {
          "output_type": "stream",
          "name": "stderr",
          "text": [
            "Training: 100%|██████████| 391/391 [01:33<00:00,  4.18it/s, loss=1.665, acc=45.75%]\n",
            "Evaluating: 100%|██████████| 79/79 [00:06<00:00, 12.49it/s]\n"
          ]
        },
        {
          "output_type": "stream",
          "name": "stdout",
          "text": [
            "\n",
            "Epoch 9 Summary:\n",
            "  Train Loss: 1.6653 | Train Acc: 45.75%\n",
            "  Test Loss:  1.5513 | Test Acc:  50.78%\n",
            "  Learning Rate: 0.000981\n",
            "  ✓ New best test accuracy: 50.78%\n",
            "\n",
            "Epoch 10/50\n",
            "----------------------------------------\n"
          ]
        },
        {
          "output_type": "stream",
          "name": "stderr",
          "text": [
            "Training: 100%|██████████| 391/391 [01:33<00:00,  4.17it/s, loss=1.654, acc=46.29%]\n",
            "Evaluating: 100%|██████████| 79/79 [00:06<00:00, 12.67it/s]\n"
          ]
        },
        {
          "output_type": "stream",
          "name": "stdout",
          "text": [
            "\n",
            "Epoch 10 Summary:\n",
            "  Train Loss: 1.6535 | Train Acc: 46.29%\n",
            "  Test Loss:  1.5652 | Test Acc:  51.12%\n",
            "  Learning Rate: 0.000970\n",
            "  ✓ New best test accuracy: 51.12%\n",
            "\n",
            "Epoch 11/50\n",
            "----------------------------------------\n"
          ]
        },
        {
          "output_type": "stream",
          "name": "stderr",
          "text": [
            "Training: 100%|██████████| 391/391 [01:33<00:00,  4.17it/s, loss=1.639, acc=46.89%]\n",
            "Evaluating: 100%|██████████| 79/79 [00:06<00:00, 12.64it/s]\n"
          ]
        },
        {
          "output_type": "stream",
          "name": "stdout",
          "text": [
            "\n",
            "Epoch 11 Summary:\n",
            "  Train Loss: 1.6388 | Train Acc: 46.89%\n",
            "  Test Loss:  1.5367 | Test Acc:  51.86%\n",
            "  Learning Rate: 0.000957\n",
            "  ✓ New best test accuracy: 51.86%\n",
            "\n",
            "Epoch 12/50\n",
            "----------------------------------------\n"
          ]
        },
        {
          "output_type": "stream",
          "name": "stderr",
          "text": [
            "Training: 100%|██████████| 391/391 [01:33<00:00,  4.16it/s, loss=1.619, acc=48.00%]\n",
            "Evaluating: 100%|██████████| 79/79 [00:06<00:00, 12.62it/s]\n"
          ]
        },
        {
          "output_type": "stream",
          "name": "stdout",
          "text": [
            "\n",
            "Epoch 12 Summary:\n",
            "  Train Loss: 1.6195 | Train Acc: 48.00%\n",
            "  Test Loss:  1.5203 | Test Acc:  52.70%\n",
            "  Learning Rate: 0.000941\n",
            "  ✓ New best test accuracy: 52.70%\n",
            "\n",
            "Epoch 13/50\n",
            "----------------------------------------\n"
          ]
        },
        {
          "output_type": "stream",
          "name": "stderr",
          "text": [
            "Training: 100%|██████████| 391/391 [01:34<00:00,  4.15it/s, loss=1.607, acc=48.60%]\n",
            "Evaluating: 100%|██████████| 79/79 [00:06<00:00, 12.61it/s]\n"
          ]
        },
        {
          "output_type": "stream",
          "name": "stdout",
          "text": [
            "\n",
            "Epoch 13 Summary:\n",
            "  Train Loss: 1.6065 | Train Acc: 48.60%\n",
            "  Test Loss:  1.5236 | Test Acc:  52.86%\n",
            "  Learning Rate: 0.000924\n",
            "  ✓ New best test accuracy: 52.86%\n",
            "\n",
            "Epoch 14/50\n",
            "----------------------------------------\n"
          ]
        },
        {
          "output_type": "stream",
          "name": "stderr",
          "text": [
            "Training: 100%|██████████| 391/391 [01:33<00:00,  4.17it/s, loss=1.597, acc=48.75%]\n",
            "Evaluating: 100%|██████████| 79/79 [00:06<00:00, 12.70it/s]\n"
          ]
        },
        {
          "output_type": "stream",
          "name": "stdout",
          "text": [
            "\n",
            "Epoch 14 Summary:\n",
            "  Train Loss: 1.5973 | Train Acc: 48.75%\n",
            "  Test Loss:  1.4867 | Test Acc:  54.21%\n",
            "  Learning Rate: 0.000905\n",
            "  ✓ New best test accuracy: 54.21%\n",
            "\n",
            "Epoch 15/50\n",
            "----------------------------------------\n"
          ]
        },
        {
          "output_type": "stream",
          "name": "stderr",
          "text": [
            "Training: 100%|██████████| 391/391 [01:33<00:00,  4.17it/s, loss=1.587, acc=49.50%]\n",
            "Evaluating: 100%|██████████| 79/79 [00:06<00:00, 12.54it/s]\n"
          ]
        },
        {
          "output_type": "stream",
          "name": "stdout",
          "text": [
            "\n",
            "Epoch 15 Summary:\n",
            "  Train Loss: 1.5866 | Train Acc: 49.50%\n",
            "  Test Loss:  1.4615 | Test Acc:  55.53%\n",
            "  Learning Rate: 0.000883\n",
            "  ✓ New best test accuracy: 55.53%\n",
            "\n",
            "Epoch 16/50\n",
            "----------------------------------------\n"
          ]
        },
        {
          "output_type": "stream",
          "name": "stderr",
          "text": [
            "Training: 100%|██████████| 391/391 [01:33<00:00,  4.16it/s, loss=1.566, acc=50.46%]\n",
            "Evaluating: 100%|██████████| 79/79 [00:06<00:00, 12.59it/s]\n"
          ]
        },
        {
          "output_type": "stream",
          "name": "stdout",
          "text": [
            "\n",
            "Epoch 16 Summary:\n",
            "  Train Loss: 1.5665 | Train Acc: 50.46%\n",
            "  Test Loss:  1.4835 | Test Acc:  54.73%\n",
            "  Learning Rate: 0.000860\n",
            "\n",
            "Epoch 17/50\n",
            "----------------------------------------\n"
          ]
        },
        {
          "output_type": "stream",
          "name": "stderr",
          "text": [
            "Training: 100%|██████████| 391/391 [01:34<00:00,  4.16it/s, loss=1.549, acc=51.47%]\n",
            "Evaluating: 100%|██████████| 79/79 [00:06<00:00, 12.62it/s]\n"
          ]
        },
        {
          "output_type": "stream",
          "name": "stdout",
          "text": [
            "\n",
            "Epoch 17 Summary:\n",
            "  Train Loss: 1.5491 | Train Acc: 51.47%\n",
            "  Test Loss:  1.4343 | Test Acc:  56.33%\n",
            "  Learning Rate: 0.000835\n",
            "  ✓ New best test accuracy: 56.33%\n",
            "\n",
            "Epoch 18/50\n",
            "----------------------------------------\n"
          ]
        },
        {
          "output_type": "stream",
          "name": "stderr",
          "text": [
            "Training: 100%|██████████| 391/391 [01:33<00:00,  4.17it/s, loss=1.535, acc=52.08%]\n",
            "Evaluating: 100%|██████████| 79/79 [00:06<00:00, 12.68it/s]\n"
          ]
        },
        {
          "output_type": "stream",
          "name": "stdout",
          "text": [
            "\n",
            "Epoch 18 Summary:\n",
            "  Train Loss: 1.5349 | Train Acc: 52.08%\n",
            "  Test Loss:  1.4319 | Test Acc:  56.06%\n",
            "  Learning Rate: 0.000808\n",
            "\n",
            "Epoch 19/50\n",
            "----------------------------------------\n"
          ]
        },
        {
          "output_type": "stream",
          "name": "stderr",
          "text": [
            "Training: 100%|██████████| 391/391 [01:33<00:00,  4.17it/s, loss=1.517, acc=52.64%]\n",
            "Evaluating: 100%|██████████| 79/79 [00:06<00:00, 12.61it/s]\n"
          ]
        },
        {
          "output_type": "stream",
          "name": "stdout",
          "text": [
            "\n",
            "Epoch 19 Summary:\n",
            "  Train Loss: 1.5167 | Train Acc: 52.64%\n",
            "  Test Loss:  1.4071 | Test Acc:  58.13%\n",
            "  Learning Rate: 0.000780\n",
            "  ✓ New best test accuracy: 58.13%\n",
            "\n",
            "Epoch 20/50\n",
            "----------------------------------------\n"
          ]
        },
        {
          "output_type": "stream",
          "name": "stderr",
          "text": [
            "Training: 100%|██████████| 391/391 [01:33<00:00,  4.16it/s, loss=1.509, acc=53.18%]\n",
            "Evaluating: 100%|██████████| 79/79 [00:06<00:00, 12.65it/s]\n"
          ]
        },
        {
          "output_type": "stream",
          "name": "stdout",
          "text": [
            "\n",
            "Epoch 20 Summary:\n",
            "  Train Loss: 1.5094 | Train Acc: 53.18%\n",
            "  Test Loss:  1.4038 | Test Acc:  57.92%\n",
            "  Learning Rate: 0.000750\n",
            "\n",
            "Epoch 21/50\n",
            "----------------------------------------\n"
          ]
        },
        {
          "output_type": "stream",
          "name": "stderr",
          "text": [
            "Training: 100%|██████████| 391/391 [01:34<00:00,  4.15it/s, loss=1.490, acc=54.07%]\n",
            "Evaluating: 100%|██████████| 79/79 [00:06<00:00, 12.59it/s]\n"
          ]
        },
        {
          "output_type": "stream",
          "name": "stdout",
          "text": [
            "\n",
            "Epoch 21 Summary:\n",
            "  Train Loss: 1.4897 | Train Acc: 54.07%\n",
            "  Test Loss:  1.3917 | Test Acc:  59.13%\n",
            "  Learning Rate: 0.000719\n",
            "  ✓ New best test accuracy: 59.13%\n",
            "\n",
            "Epoch 22/50\n",
            "----------------------------------------\n"
          ]
        },
        {
          "output_type": "stream",
          "name": "stderr",
          "text": [
            "Training: 100%|██████████| 391/391 [01:34<00:00,  4.15it/s, loss=1.474, acc=54.97%]\n",
            "Evaluating: 100%|██████████| 79/79 [00:06<00:00, 12.66it/s]\n"
          ]
        },
        {
          "output_type": "stream",
          "name": "stdout",
          "text": [
            "\n",
            "Epoch 22 Summary:\n",
            "  Train Loss: 1.4743 | Train Acc: 54.97%\n",
            "  Test Loss:  1.3632 | Test Acc:  59.44%\n",
            "  Learning Rate: 0.000687\n",
            "  ✓ New best test accuracy: 59.44%\n",
            "\n",
            "Epoch 23/50\n",
            "----------------------------------------\n"
          ]
        },
        {
          "output_type": "stream",
          "name": "stderr",
          "text": [
            "Training: 100%|██████████| 391/391 [01:34<00:00,  4.16it/s, loss=1.457, acc=55.50%]\n",
            "Evaluating: 100%|██████████| 79/79 [00:06<00:00, 12.39it/s]\n"
          ]
        },
        {
          "output_type": "stream",
          "name": "stdout",
          "text": [
            "\n",
            "Epoch 23 Summary:\n",
            "  Train Loss: 1.4567 | Train Acc: 55.50%\n",
            "  Test Loss:  1.3491 | Test Acc:  60.55%\n",
            "  Learning Rate: 0.000655\n",
            "  ✓ New best test accuracy: 60.55%\n",
            "\n",
            "Epoch 24/50\n",
            "----------------------------------------\n"
          ]
        },
        {
          "output_type": "stream",
          "name": "stderr",
          "text": [
            "Training: 100%|██████████| 391/391 [01:34<00:00,  4.15it/s, loss=1.442, acc=56.29%]\n",
            "Evaluating: 100%|██████████| 79/79 [00:06<00:00, 12.59it/s]\n"
          ]
        },
        {
          "output_type": "stream",
          "name": "stdout",
          "text": [
            "\n",
            "Epoch 24 Summary:\n",
            "  Train Loss: 1.4417 | Train Acc: 56.29%\n",
            "  Test Loss:  1.3820 | Test Acc:  59.39%\n",
            "  Learning Rate: 0.000621\n",
            "\n",
            "Epoch 25/50\n",
            "----------------------------------------\n"
          ]
        },
        {
          "output_type": "stream",
          "name": "stderr",
          "text": [
            "Training: 100%|██████████| 391/391 [01:34<00:00,  4.16it/s, loss=1.428, acc=57.08%]\n",
            "Evaluating: 100%|██████████| 79/79 [00:06<00:00, 12.64it/s]\n"
          ]
        },
        {
          "output_type": "stream",
          "name": "stdout",
          "text": [
            "\n",
            "Epoch 25 Summary:\n",
            "  Train Loss: 1.4281 | Train Acc: 57.08%\n",
            "  Test Loss:  1.3371 | Test Acc:  61.30%\n",
            "  Learning Rate: 0.000587\n",
            "  ✓ New best test accuracy: 61.30%\n",
            "\n",
            "Epoch 26/50\n",
            "----------------------------------------\n"
          ]
        },
        {
          "output_type": "stream",
          "name": "stderr",
          "text": [
            "Training: 100%|██████████| 391/391 [01:34<00:00,  4.15it/s, loss=1.410, acc=58.20%]\n",
            "Evaluating: 100%|██████████| 79/79 [00:06<00:00, 12.58it/s]\n"
          ]
        },
        {
          "output_type": "stream",
          "name": "stdout",
          "text": [
            "\n",
            "Epoch 26 Summary:\n",
            "  Train Loss: 1.4098 | Train Acc: 58.20%\n",
            "  Test Loss:  1.3096 | Test Acc:  62.43%\n",
            "  Learning Rate: 0.000552\n",
            "  ✓ New best test accuracy: 62.43%\n",
            "\n",
            "Epoch 27/50\n",
            "----------------------------------------\n"
          ]
        },
        {
          "output_type": "stream",
          "name": "stderr",
          "text": [
            "Training: 100%|██████████| 391/391 [01:34<00:00,  4.16it/s, loss=1.391, acc=58.93%]\n",
            "Evaluating: 100%|██████████| 79/79 [00:06<00:00, 12.63it/s]\n"
          ]
        },
        {
          "output_type": "stream",
          "name": "stdout",
          "text": [
            "\n",
            "Epoch 27 Summary:\n",
            "  Train Loss: 1.3910 | Train Acc: 58.93%\n",
            "  Test Loss:  1.2917 | Test Acc:  62.97%\n",
            "  Learning Rate: 0.000517\n",
            "  ✓ New best test accuracy: 62.97%\n",
            "\n",
            "Epoch 28/50\n",
            "----------------------------------------\n"
          ]
        },
        {
          "output_type": "stream",
          "name": "stderr",
          "text": [
            "Training: 100%|██████████| 391/391 [01:34<00:00,  4.14it/s, loss=1.374, acc=59.95%]\n",
            "Evaluating: 100%|██████████| 79/79 [00:06<00:00, 12.61it/s]\n"
          ]
        },
        {
          "output_type": "stream",
          "name": "stdout",
          "text": [
            "\n",
            "Epoch 28 Summary:\n",
            "  Train Loss: 1.3742 | Train Acc: 59.95%\n",
            "  Test Loss:  1.2828 | Test Acc:  64.23%\n",
            "  Learning Rate: 0.000483\n",
            "  ✓ New best test accuracy: 64.23%\n",
            "\n",
            "Epoch 29/50\n",
            "----------------------------------------\n"
          ]
        },
        {
          "output_type": "stream",
          "name": "stderr",
          "text": [
            "Training: 100%|██████████| 391/391 [01:34<00:00,  4.15it/s, loss=1.352, acc=60.73%]\n",
            "Evaluating: 100%|██████████| 79/79 [00:06<00:00, 12.62it/s]\n"
          ]
        },
        {
          "output_type": "stream",
          "name": "stdout",
          "text": [
            "\n",
            "Epoch 29 Summary:\n",
            "  Train Loss: 1.3522 | Train Acc: 60.73%\n",
            "  Test Loss:  1.2546 | Test Acc:  65.17%\n",
            "  Learning Rate: 0.000448\n",
            "  ✓ New best test accuracy: 65.17%\n",
            "\n",
            "Epoch 30/50\n",
            "----------------------------------------\n"
          ]
        },
        {
          "output_type": "stream",
          "name": "stderr",
          "text": [
            "Training: 100%|██████████| 391/391 [01:34<00:00,  4.16it/s, loss=1.336, acc=61.44%]\n",
            "Evaluating: 100%|██████████| 79/79 [00:06<00:00, 12.63it/s]\n"
          ]
        },
        {
          "output_type": "stream",
          "name": "stdout",
          "text": [
            "\n",
            "Epoch 30 Summary:\n",
            "  Train Loss: 1.3360 | Train Acc: 61.44%\n",
            "  Test Loss:  1.2489 | Test Acc:  65.79%\n",
            "  Learning Rate: 0.000413\n",
            "  ✓ New best test accuracy: 65.79%\n",
            "\n",
            "Epoch 31/50\n",
            "----------------------------------------\n"
          ]
        },
        {
          "output_type": "stream",
          "name": "stderr",
          "text": [
            "Training: 100%|██████████| 391/391 [01:34<00:00,  4.16it/s, loss=1.320, acc=62.26%]\n",
            "Evaluating: 100%|██████████| 79/79 [00:06<00:00, 12.50it/s]\n"
          ]
        },
        {
          "output_type": "stream",
          "name": "stdout",
          "text": [
            "\n",
            "Epoch 31 Summary:\n",
            "  Train Loss: 1.3204 | Train Acc: 62.26%\n",
            "  Test Loss:  1.2158 | Test Acc:  66.77%\n",
            "  Learning Rate: 0.000379\n",
            "  ✓ New best test accuracy: 66.77%\n",
            "\n",
            "Epoch 32/50\n",
            "----------------------------------------\n"
          ]
        },
        {
          "output_type": "stream",
          "name": "stderr",
          "text": [
            "Training: 100%|██████████| 391/391 [01:34<00:00,  4.15it/s, loss=1.300, acc=63.23%]\n",
            "Evaluating: 100%|██████████| 79/79 [00:06<00:00, 12.44it/s]\n"
          ]
        },
        {
          "output_type": "stream",
          "name": "stdout",
          "text": [
            "\n",
            "Epoch 32 Summary:\n",
            "  Train Loss: 1.2998 | Train Acc: 63.23%\n",
            "  Test Loss:  1.1906 | Test Acc:  68.68%\n",
            "  Learning Rate: 0.000345\n",
            "  ✓ New best test accuracy: 68.68%\n",
            "\n",
            "Epoch 33/50\n",
            "----------------------------------------\n"
          ]
        },
        {
          "output_type": "stream",
          "name": "stderr",
          "text": [
            "Training: 100%|██████████| 391/391 [01:34<00:00,  4.15it/s, loss=1.285, acc=64.07%]\n",
            "Evaluating: 100%|██████████| 79/79 [00:06<00:00, 12.46it/s]\n"
          ]
        },
        {
          "output_type": "stream",
          "name": "stdout",
          "text": [
            "\n",
            "Epoch 33 Summary:\n",
            "  Train Loss: 1.2854 | Train Acc: 64.07%\n",
            "  Test Loss:  1.1873 | Test Acc:  68.19%\n",
            "  Learning Rate: 0.000313\n",
            "\n",
            "Epoch 34/50\n",
            "----------------------------------------\n"
          ]
        },
        {
          "output_type": "stream",
          "name": "stderr",
          "text": [
            "Training: 100%|██████████| 391/391 [01:34<00:00,  4.15it/s, loss=1.269, acc=64.59%]\n",
            "Evaluating: 100%|██████████| 79/79 [00:06<00:00, 12.62it/s]\n"
          ]
        },
        {
          "output_type": "stream",
          "name": "stdout",
          "text": [
            "\n",
            "Epoch 34 Summary:\n",
            "  Train Loss: 1.2689 | Train Acc: 64.59%\n",
            "  Test Loss:  1.1795 | Test Acc:  68.61%\n",
            "  Learning Rate: 0.000281\n",
            "\n",
            "Epoch 35/50\n",
            "----------------------------------------\n"
          ]
        },
        {
          "output_type": "stream",
          "name": "stderr",
          "text": [
            "Training: 100%|██████████| 391/391 [01:34<00:00,  4.16it/s, loss=1.250, acc=65.70%]\n",
            "Evaluating: 100%|██████████| 79/79 [00:06<00:00, 12.61it/s]\n"
          ]
        },
        {
          "output_type": "stream",
          "name": "stdout",
          "text": [
            "\n",
            "Epoch 35 Summary:\n",
            "  Train Loss: 1.2505 | Train Acc: 65.70%\n",
            "  Test Loss:  1.1861 | Test Acc:  68.37%\n",
            "  Learning Rate: 0.000250\n",
            "\n",
            "Epoch 36/50\n",
            "----------------------------------------\n"
          ]
        },
        {
          "output_type": "stream",
          "name": "stderr",
          "text": [
            "Training: 100%|██████████| 391/391 [01:34<00:00,  4.16it/s, loss=1.234, acc=66.32%]\n",
            "Evaluating: 100%|██████████| 79/79 [00:06<00:00, 12.56it/s]\n"
          ]
        },
        {
          "output_type": "stream",
          "name": "stdout",
          "text": [
            "\n",
            "Epoch 36 Summary:\n",
            "  Train Loss: 1.2336 | Train Acc: 66.32%\n",
            "  Test Loss:  1.1703 | Test Acc:  69.69%\n",
            "  Learning Rate: 0.000220\n",
            "  ✓ New best test accuracy: 69.69%\n",
            "\n",
            "Epoch 37/50\n",
            "----------------------------------------\n"
          ]
        },
        {
          "output_type": "stream",
          "name": "stderr",
          "text": [
            "Training: 100%|██████████| 391/391 [01:34<00:00,  4.14it/s, loss=1.222, acc=66.89%]\n",
            "Evaluating: 100%|██████████| 79/79 [00:06<00:00, 12.60it/s]\n"
          ]
        },
        {
          "output_type": "stream",
          "name": "stdout",
          "text": [
            "\n",
            "Epoch 37 Summary:\n",
            "  Train Loss: 1.2221 | Train Acc: 66.89%\n",
            "  Test Loss:  1.1435 | Test Acc:  70.75%\n",
            "  Learning Rate: 0.000192\n",
            "  ✓ New best test accuracy: 70.75%\n",
            "\n",
            "Epoch 38/50\n",
            "----------------------------------------\n"
          ]
        },
        {
          "output_type": "stream",
          "name": "stderr",
          "text": [
            "Training: 100%|██████████| 391/391 [01:34<00:00,  4.15it/s, loss=1.205, acc=67.96%]\n",
            "Evaluating: 100%|██████████| 79/79 [00:06<00:00, 12.54it/s]\n"
          ]
        },
        {
          "output_type": "stream",
          "name": "stdout",
          "text": [
            "\n",
            "Epoch 38 Summary:\n",
            "  Train Loss: 1.2047 | Train Acc: 67.96%\n",
            "  Test Loss:  1.1359 | Test Acc:  70.94%\n",
            "  Learning Rate: 0.000165\n",
            "  ✓ New best test accuracy: 70.94%\n",
            "\n",
            "Epoch 39/50\n",
            "----------------------------------------\n"
          ]
        },
        {
          "output_type": "stream",
          "name": "stderr",
          "text": [
            "Training: 100%|██████████| 391/391 [01:34<00:00,  4.16it/s, loss=1.193, acc=68.35%]\n",
            "Evaluating: 100%|██████████| 79/79 [00:06<00:00, 12.45it/s]\n"
          ]
        },
        {
          "output_type": "stream",
          "name": "stdout",
          "text": [
            "\n",
            "Epoch 39 Summary:\n",
            "  Train Loss: 1.1933 | Train Acc: 68.35%\n",
            "  Test Loss:  1.1317 | Test Acc:  70.86%\n",
            "  Learning Rate: 0.000140\n",
            "\n",
            "Epoch 40/50\n",
            "----------------------------------------\n"
          ]
        },
        {
          "output_type": "stream",
          "name": "stderr",
          "text": [
            "Training: 100%|██████████| 391/391 [01:33<00:00,  4.17it/s, loss=1.176, acc=69.30%]\n",
            "Evaluating: 100%|██████████| 79/79 [00:06<00:00, 12.67it/s]\n"
          ]
        },
        {
          "output_type": "stream",
          "name": "stdout",
          "text": [
            "\n",
            "Epoch 40 Summary:\n",
            "  Train Loss: 1.1756 | Train Acc: 69.30%\n",
            "  Test Loss:  1.1185 | Test Acc:  71.86%\n",
            "  Learning Rate: 0.000117\n",
            "  ✓ New best test accuracy: 71.86%\n",
            "\n",
            "Epoch 41/50\n",
            "----------------------------------------\n"
          ]
        },
        {
          "output_type": "stream",
          "name": "stderr",
          "text": [
            "Training: 100%|██████████| 391/391 [01:33<00:00,  4.16it/s, loss=1.165, acc=69.65%]\n",
            "Evaluating: 100%|██████████| 79/79 [00:06<00:00, 12.61it/s]\n"
          ]
        },
        {
          "output_type": "stream",
          "name": "stdout",
          "text": [
            "\n",
            "Epoch 41 Summary:\n",
            "  Train Loss: 1.1651 | Train Acc: 69.65%\n",
            "  Test Loss:  1.1103 | Test Acc:  72.29%\n",
            "  Learning Rate: 0.000095\n",
            "  ✓ New best test accuracy: 72.29%\n",
            "\n",
            "Epoch 42/50\n",
            "----------------------------------------\n"
          ]
        },
        {
          "output_type": "stream",
          "name": "stderr",
          "text": [
            "Training: 100%|██████████| 391/391 [01:34<00:00,  4.15it/s, loss=1.155, acc=70.22%]\n",
            "Evaluating: 100%|██████████| 79/79 [00:06<00:00, 12.56it/s]\n"
          ]
        },
        {
          "output_type": "stream",
          "name": "stdout",
          "text": [
            "\n",
            "Epoch 42 Summary:\n",
            "  Train Loss: 1.1550 | Train Acc: 70.22%\n",
            "  Test Loss:  1.1101 | Test Acc:  72.53%\n",
            "  Learning Rate: 0.000076\n",
            "  ✓ New best test accuracy: 72.53%\n",
            "\n",
            "Epoch 43/50\n",
            "----------------------------------------\n"
          ]
        },
        {
          "output_type": "stream",
          "name": "stderr",
          "text": [
            "Training: 100%|██████████| 391/391 [01:34<00:00,  4.15it/s, loss=1.143, acc=70.61%]\n",
            "Evaluating: 100%|██████████| 79/79 [00:06<00:00, 12.63it/s]\n"
          ]
        },
        {
          "output_type": "stream",
          "name": "stdout",
          "text": [
            "\n",
            "Epoch 43 Summary:\n",
            "  Train Loss: 1.1427 | Train Acc: 70.61%\n",
            "  Test Loss:  1.1080 | Test Acc:  72.31%\n",
            "  Learning Rate: 0.000059\n",
            "\n",
            "Epoch 44/50\n",
            "----------------------------------------\n"
          ]
        },
        {
          "output_type": "stream",
          "name": "stderr",
          "text": [
            "Training: 100%|██████████| 391/391 [01:33<00:00,  4.16it/s, loss=1.135, acc=71.01%]\n",
            "Evaluating: 100%|██████████| 79/79 [00:06<00:00, 12.63it/s]\n"
          ]
        },
        {
          "output_type": "stream",
          "name": "stdout",
          "text": [
            "\n",
            "Epoch 44 Summary:\n",
            "  Train Loss: 1.1348 | Train Acc: 71.01%\n",
            "  Test Loss:  1.0948 | Test Acc:  72.77%\n",
            "  Learning Rate: 0.000043\n",
            "  ✓ New best test accuracy: 72.77%\n",
            "\n",
            "Epoch 45/50\n",
            "----------------------------------------\n"
          ]
        },
        {
          "output_type": "stream",
          "name": "stderr",
          "text": [
            "Training: 100%|██████████| 391/391 [01:34<00:00,  4.16it/s, loss=1.128, acc=71.23%]\n",
            "Evaluating: 100%|██████████| 79/79 [00:06<00:00, 12.38it/s]\n"
          ]
        },
        {
          "output_type": "stream",
          "name": "stdout",
          "text": [
            "\n",
            "Epoch 45 Summary:\n",
            "  Train Loss: 1.1282 | Train Acc: 71.23%\n",
            "  Test Loss:  1.0970 | Test Acc:  72.52%\n",
            "  Learning Rate: 0.000030\n",
            "\n",
            "Epoch 46/50\n",
            "----------------------------------------\n"
          ]
        },
        {
          "output_type": "stream",
          "name": "stderr",
          "text": [
            "Training: 100%|██████████| 391/391 [01:33<00:00,  4.16it/s, loss=1.125, acc=71.37%]\n",
            "Evaluating: 100%|██████████| 79/79 [00:06<00:00, 12.56it/s]\n"
          ]
        },
        {
          "output_type": "stream",
          "name": "stdout",
          "text": [
            "\n",
            "Epoch 46 Summary:\n",
            "  Train Loss: 1.1246 | Train Acc: 71.37%\n",
            "  Test Loss:  1.0922 | Test Acc:  73.11%\n",
            "  Learning Rate: 0.000019\n",
            "  ✓ New best test accuracy: 73.11%\n",
            "\n",
            "Epoch 47/50\n",
            "----------------------------------------\n"
          ]
        },
        {
          "output_type": "stream",
          "name": "stderr",
          "text": [
            "Training: 100%|██████████| 391/391 [01:33<00:00,  4.16it/s, loss=1.118, acc=71.80%]\n",
            "Evaluating: 100%|██████████| 79/79 [00:06<00:00, 12.60it/s]\n"
          ]
        },
        {
          "output_type": "stream",
          "name": "stdout",
          "text": [
            "\n",
            "Epoch 47 Summary:\n",
            "  Train Loss: 1.1177 | Train Acc: 71.80%\n",
            "  Test Loss:  1.0899 | Test Acc:  73.29%\n",
            "  Learning Rate: 0.000011\n",
            "  ✓ New best test accuracy: 73.29%\n",
            "\n",
            "Epoch 48/50\n",
            "----------------------------------------\n"
          ]
        },
        {
          "output_type": "stream",
          "name": "stderr",
          "text": [
            "Training: 100%|██████████| 391/391 [01:34<00:00,  4.16it/s, loss=1.113, acc=72.12%]\n",
            "Evaluating: 100%|██████████| 79/79 [00:06<00:00, 12.59it/s]\n"
          ]
        },
        {
          "output_type": "stream",
          "name": "stdout",
          "text": [
            "\n",
            "Epoch 48 Summary:\n",
            "  Train Loss: 1.1130 | Train Acc: 72.12%\n",
            "  Test Loss:  1.0864 | Test Acc:  73.35%\n",
            "  Learning Rate: 0.000005\n",
            "  ✓ New best test accuracy: 73.35%\n",
            "\n",
            "Epoch 49/50\n",
            "----------------------------------------\n"
          ]
        },
        {
          "output_type": "stream",
          "name": "stderr",
          "text": [
            "Training: 100%|██████████| 391/391 [01:34<00:00,  4.15it/s, loss=1.110, acc=72.32%]\n",
            "Evaluating: 100%|██████████| 79/79 [00:06<00:00, 12.59it/s]\n"
          ]
        },
        {
          "output_type": "stream",
          "name": "stdout",
          "text": [
            "\n",
            "Epoch 49 Summary:\n",
            "  Train Loss: 1.1102 | Train Acc: 72.32%\n",
            "  Test Loss:  1.0886 | Test Acc:  73.22%\n",
            "  Learning Rate: 0.000001\n",
            "\n",
            "Epoch 50/50\n",
            "----------------------------------------\n"
          ]
        },
        {
          "output_type": "stream",
          "name": "stderr",
          "text": [
            "Training: 100%|██████████| 391/391 [01:34<00:00,  4.16it/s, loss=1.110, acc=72.01%]\n",
            "Evaluating: 100%|██████████| 79/79 [00:06<00:00, 12.64it/s]"
          ]
        },
        {
          "output_type": "stream",
          "name": "stdout",
          "text": [
            "\n",
            "Epoch 50 Summary:\n",
            "  Train Loss: 1.1100 | Train Acc: 72.01%\n",
            "  Test Loss:  1.0873 | Test Acc:  73.20%\n",
            "  Learning Rate: 0.000000\n",
            "\n",
            "============================================================\n",
            "TRAINING COMPLETED!\n",
            "============================================================\n",
            "Total training time: 83.39 minutes\n",
            "Best test accuracy: 73.35%\n"
          ]
        },
        {
          "output_type": "stream",
          "name": "stderr",
          "text": [
            "\n"
          ]
        }
      ]
    },
    {
      "cell_type": "code",
      "source": [
        "# Cell 8: Plot training curves\n",
        "fig, axes = plt.subplots(1, 2, figsize=(14, 5))\n",
        "\n",
        "# Loss curves\n",
        "axes[0].plot(history['train_loss'], label='Train Loss', linewidth=2)\n",
        "axes[0].plot(history['test_loss'], label='Test Loss', linewidth=2)\n",
        "axes[0].set_xlabel('Epoch', fontsize=12)\n",
        "axes[0].set_ylabel('Loss', fontsize=12)\n",
        "axes[0].set_title('Training and Test Loss', fontsize=14, fontweight='bold')\n",
        "axes[0].legend(fontsize=10)\n",
        "axes[0].grid(True, alpha=0.3)\n",
        "\n",
        "# Accuracy curves\n",
        "axes[1].plot(history['train_acc'], label='Train Accuracy', linewidth=2)\n",
        "axes[1].plot(history['test_acc'], label='Test Accuracy', linewidth=2)\n",
        "axes[1].set_xlabel('Epoch', fontsize=12)\n",
        "axes[1].set_ylabel('Accuracy (%)', fontsize=12)\n",
        "axes[1].set_title('Training and Test Accuracy', fontsize=14, fontweight='bold')\n",
        "axes[1].legend(fontsize=10)\n",
        "axes[1].grid(True, alpha=0.3)\n",
        "axes[1].axhline(y=best_test_acc, color='r', linestyle='--', alpha=0.5,\n",
        "               label=f'Best: {best_test_acc:.2f}%')\n",
        "\n",
        "plt.tight_layout()\n",
        "plt.savefig('vit_training_curves.png', dpi=150, bbox_inches='tight')\n",
        "plt.show()"
      ],
      "metadata": {
        "colab": {
          "base_uri": "https://localhost:8080/",
          "height": 500
        },
        "id": "XVmMVeqd3EiS",
        "outputId": "633883c0-96b0-449f-8dad-eeb5e922ac82"
      },
      "execution_count": 11,
      "outputs": [
        {
          "output_type": "display_data",
          "data": {
            "text/plain": [
              "<Figure size 1400x500 with 2 Axes>"
            ],
            "image/png": "[encoded data removed]"
          },
          "metadata": {}
        }
      ]
    },
    {
      "cell_type": "code",
      "source": [
        " # Cell 9: Final results summary\n",
        "print(\"\\n\" + \"=\"*60)\n",
        "print(\"FINAL RESULTS SUMMARY\")\n",
        "print(\"=\"*60)\n",
        "print(f\"\\nModel Architecture:\")\n",
        "print(f\"  - Patch Size: 4x4\")\n",
        "print(f\"  - Number of Patches: 64\")\n",
        "print(f\"  - Embedding Dimension: 256\")\n",
        "print(f\"  - Transformer Depth: 6 blocks\")\n",
        "print(f\"  - Attention Heads: 8\")\n",
        "print(f\"  - Total Parameters: {total_params:,}\")\n",
        "\n",
        "print(f\"\\nPerformance:\")\n",
        "print(f\"  - Final Train Accuracy: {history['train_acc'][-1]:.2f}%\")\n",
        "print(f\"  - Final Test Accuracy:  {history['test_acc'][-1]:.2f}%\")\n",
        "print(f\"  - Best Test Accuracy:   {best_test_acc:.2f}%\")\n",
        "print(f\"  - Training Time: {total_time/60:.2f} minutes\")\n",
        "\n",
        "print(f\"\\n{'='*60}\")"
      ],
      "metadata": {
        "colab": {
          "base_uri": "https://localhost:8080/"
        },
        "id": "-2EveMIFUAGB",
        "outputId": "07f4ba94-b60e-4006-caf1-85a84739e8d2"
      },
      "execution_count": 13,
      "outputs": [
        {
          "output_type": "stream",
          "name": "stdout",
          "text": [
            "\n",
            "============================================================\n",
            "FINAL RESULTS SUMMARY\n",
            "============================================================\n",
            "\n",
            "Model Architecture:\n",
            "  - Patch Size: 4x4\n",
            "  - Number of Patches: 64\n",
            "  - Embedding Dimension: 256\n",
            "  - Transformer Depth: 6 blocks\n",
            "  - Attention Heads: 8\n",
            "  - Total Parameters: 12,470,026\n",
            "\n",
            "Performance:\n",
            "  - Final Train Accuracy: 72.01%\n",
            "  - Final Test Accuracy:  73.20%\n",
            "  - Best Test Accuracy:   73.35%\n",
            "  - Training Time: 83.39 minutes\n",
            "\n",
            "============================================================\n"
          ]
        }
      ]
    },
    {
      "cell_type": "code",
      "source": [
        " # Cell 10: Test on sample images\n",
        "def visualize_predictions(model, test_loader, device, num_images=16):\n",
        "    \"\"\"Visualize model predictions on sample images\"\"\"\n",
        "    model.eval()\n",
        "\n",
        "    # Get one batch\n",
        "    dataiter = iter(test_loader)\n",
        "    images, labels = next(dataiter)\n",
        "    images, labels = images.to(device), labels.to(device)\n",
        "\n",
        "    # Get predictions\n",
        "    with torch.no_grad():\n",
        "        outputs = model(images)\n",
        "        _, predicted = torch.max(outputs, 1)\n",
        "\n",
        "    # Move to CPU for visualization\n",
        "    images = images.cpu()\n",
        "    labels = labels.cpu()\n",
        "    predicted = predicted.cpu()\n",
        "\n",
        "    # Denormalize images\n",
        "    mean = torch.tensor([0.4914, 0.4822, 0.4465]).view(3, 1, 1)\n",
        "    std = torch.tensor([0.2470, 0.2435, 0.2616]).view(3, 1, 1)\n",
        "    images = images * std + mean\n",
        "    images = torch.clamp(images, 0, 1)\n",
        "\n",
        "    # Plot\n",
        "    fig, axes = plt.subplots(4, 4, figsize=(12, 12))\n",
        "    for idx in range(min(num_images, len(images))):\n",
        "        ax = axes[idx // 4, idx % 4]\n",
        "        img = images[idx].permute(1, 2, 0).numpy()\n",
        "        ax.imshow(img)\n",
        "\n",
        "        true_label = classes[labels[idx]]\n",
        "        pred_label = classes[predicted[idx]]\n",
        "        color = 'green' if labels[idx] == predicted[idx] else 'red'\n",
        "\n",
        "        ax.set_title(f'True: {true_label}\\nPred: {pred_label}',\n",
        "                    color=color, fontsize=10, fontweight='bold')\n",
        "        ax.axis('off')\n",
        "\n",
        "    plt.tight_layout()\n",
        "    plt.savefig('vit_predictions.png', dpi=150, bbox_inches='tight')\n",
        "    plt.show()\n",
        "\n",
        "visualize_predictions(model, test_loader, device)"
      ],
      "metadata": {
        "colab": {
          "base_uri": "https://localhost:8080/",
          "height": 1000
        },
        "id": "8Aicz7rgUFSC",
        "outputId": "28f17a44-9371-46c8-91ee-a7847c4ba776"
      },
      "execution_count": 15,
      "outputs": [
        {
          "output_type": "display_data",
          "data": {
            "text/plain": [
              "<Figure size 1200x1200 with 16 Axes>"
            ],
            "image/png": "[encoded data removed]"
          },
          "metadata": {}
        }
      ]
    },
    {
      "cell_type": "code",
      "source": [],
      "metadata": {
        "id": "0FT7c7AzURhS"
      },
      "execution_count": null,
      "outputs": []
    }
  ]
}